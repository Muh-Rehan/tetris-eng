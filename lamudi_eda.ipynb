{
 "cells": [
  {
   "cell_type": "code",
   "execution_count": 32,
   "metadata": {},
   "outputs": [],
   "source": [
    "import pandas as pd\n",
    "import seaborn as sns\n",
    "import matplotlib.pyplot as plt\n",
    "import plotly.express as px\n",
    "from statistics import median"
   ]
  },
  {
   "cell_type": "code",
   "execution_count": 2,
   "metadata": {},
   "outputs": [],
   "source": [
    "rumah_jakpus = pd.read_csv('lamudi_jakpus.csv')\n",
    "rumah_jaksel = pd.read_csv('lamudi_jaksel.csv')\n",
    "rumah_jakut = pd.read_csv('lamudi_jakut.csv')\n",
    "rumah_jaktim = pd.read_csv('lamudi_jaktim.csv')\n",
    "rumah_jakbar = pd.read_csv('lamudi_jakbar.csv')\n",
    "\n",
    "rumah_bandung = pd.read_csv('lamudi_bandung.csv')\n",
    "rumah_surabaya = pd.read_csv('lamudi_surabaya.csv')\n",
    "rumah_medan = pd.read_csv('lamudi_medan.csv')\n",
    "rumah_makassar = pd.read_csv('lamudi_makassar.csv')"
   ]
  },
  {
   "cell_type": "code",
   "execution_count": 3,
   "metadata": {},
   "outputs": [],
   "source": [
    "data_rumah = pd.concat((rumah_jakpus, rumah_jaksel, rumah_jakut, rumah_jaktim, rumah_jakbar,\n",
    "                        rumah_bandung, rumah_makassar, rumah_surabaya, rumah_medan), \n",
    "                ignore_index=True)"
   ]
  },
  {
   "cell_type": "code",
   "execution_count": 27,
   "metadata": {},
   "outputs": [],
   "source": [
    "data_rumah.to_csv('data_rumah.csv', index=False)"
   ]
  },
  {
   "cell_type": "code",
   "execution_count": 26,
   "metadata": {},
   "outputs": [
    {
     "name": "stdout",
     "output_type": "stream",
     "text": [
      "<class 'pandas.core.frame.DataFrame'>\n",
      "Int64Index: 3834 entries, 0 to 4049\n",
      "Data columns (total 7 columns):\n",
      " #   Column         Non-Null Count  Dtype  \n",
      "---  ------         --------------  -----  \n",
      " 0   Judul          3834 non-null   object \n",
      " 1   Kota           3834 non-null   object \n",
      " 2   Wilayah        3475 non-null   object \n",
      " 3   Luas_Bangunan  3834 non-null   float64\n",
      " 4   Luas_Lahan     3834 non-null   float64\n",
      " 5   Harga          3834 non-null   float64\n",
      " 6   Total_Luas     3834 non-null   int64  \n",
      "dtypes: float64(3), int64(1), object(3)\n",
      "memory usage: 239.6+ KB\n"
     ]
    }
   ],
   "source": [
    "data_rumah.info()"
   ]
  },
  {
   "cell_type": "code",
   "execution_count": 17,
   "metadata": {},
   "outputs": [
    {
     "data": {
      "text/plain": [
       "Jakarta Barat      442\n",
       "Jakarta Selatan    441\n",
       "Jakarta Timur      433\n",
       "Surabaya           433\n",
       "Makassar           427\n",
       "Medan              426\n",
       "Jakarta Pusat      421\n",
       "Bandung            419\n",
       "Jakarta Utara      392\n",
       "Name: Kota, dtype: int64"
      ]
     },
     "execution_count": 17,
     "metadata": {},
     "output_type": "execute_result"
    }
   ],
   "source": [
    "# data_rumah.dropna(subset=('Luas_Bangunan', 'Luas_Lahan', 'Harga'), axis=0, inplace=True)\n",
    "data_rumah.Kota.value_counts()"
   ]
  },
  {
   "cell_type": "code",
   "execution_count": 23,
   "metadata": {},
   "outputs": [],
   "source": [
    "data_rumah['Total_Luas'] = data_rumah.Luas_Bangunan + data_rumah.Luas_Lahan"
   ]
  },
  {
   "cell_type": "code",
   "execution_count": 25,
   "metadata": {},
   "outputs": [],
   "source": [
    "data_rumah['Total_Luas'] = data_rumah['Total_Luas'].astype('int64')"
   ]
  },
  {
   "cell_type": "code",
   "execution_count": 29,
   "metadata": {},
   "outputs": [
    {
     "data": {
      "text/html": [
       "<div>\n",
       "<style scoped>\n",
       "    .dataframe tbody tr th:only-of-type {\n",
       "        vertical-align: middle;\n",
       "    }\n",
       "\n",
       "    .dataframe tbody tr th {\n",
       "        vertical-align: top;\n",
       "    }\n",
       "\n",
       "    .dataframe thead th {\n",
       "        text-align: right;\n",
       "    }\n",
       "</style>\n",
       "<table border=\"1\" class=\"dataframe\">\n",
       "  <thead>\n",
       "    <tr style=\"text-align: right;\">\n",
       "      <th></th>\n",
       "      <th>Judul</th>\n",
       "      <th>Kota</th>\n",
       "      <th>Wilayah</th>\n",
       "      <th>Luas_Bangunan</th>\n",
       "      <th>Luas_Lahan</th>\n",
       "      <th>Harga</th>\n",
       "      <th>Total_Luas</th>\n",
       "    </tr>\n",
       "  </thead>\n",
       "  <tbody>\n",
       "    <tr>\n",
       "      <th>53</th>\n",
       "      <td>Rumah Prestisius Luas with Pool di Menteng</td>\n",
       "      <td>Jakarta Pusat</td>\n",
       "      <td>Menteng</td>\n",
       "      <td>1200.0</td>\n",
       "      <td>1176.0</td>\n",
       "      <td>1.650000e+11</td>\n",
       "      <td>2376</td>\n",
       "    </tr>\n",
       "    <tr>\n",
       "      <th>63</th>\n",
       "      <td>RUMAH LUX PRESTISIUS MENTENG</td>\n",
       "      <td>Jakarta Pusat</td>\n",
       "      <td>Menteng</td>\n",
       "      <td>1200.0</td>\n",
       "      <td>1176.0</td>\n",
       "      <td>1.750000e+11</td>\n",
       "      <td>2376</td>\n",
       "    </tr>\n",
       "    <tr>\n",
       "      <th>72</th>\n",
       "      <td>Dijual rumah Area Menteng</td>\n",
       "      <td>Jakarta Pusat</td>\n",
       "      <td>Menteng</td>\n",
       "      <td>950.0</td>\n",
       "      <td>1100.0</td>\n",
       "      <td>1.200000e+11</td>\n",
       "      <td>2050</td>\n",
       "    </tr>\n",
       "    <tr>\n",
       "      <th>100</th>\n",
       "      <td>6 Bedrooms Rumah Menteng Jakarta Pusat DKI Jak...</td>\n",
       "      <td>Jakarta Pusat</td>\n",
       "      <td>Menteng</td>\n",
       "      <td>950.0</td>\n",
       "      <td>1100.0</td>\n",
       "      <td>1.200000e+11</td>\n",
       "      <td>2050</td>\n",
       "    </tr>\n",
       "    <tr>\n",
       "      <th>135</th>\n",
       "      <td>Rumah Mewah Menteng  Jakarta Pusat</td>\n",
       "      <td>Jakarta Pusat</td>\n",
       "      <td>Menteng</td>\n",
       "      <td>920.0</td>\n",
       "      <td>1100.0</td>\n",
       "      <td>1.300000e+11</td>\n",
       "      <td>2020</td>\n",
       "    </tr>\n",
       "    <tr>\n",
       "      <th>145</th>\n",
       "      <td>Rumah di Menteng</td>\n",
       "      <td>Jakarta Pusat</td>\n",
       "      <td>Menteng</td>\n",
       "      <td>1000.0</td>\n",
       "      <td>1270.0</td>\n",
       "      <td>1.905000e+11</td>\n",
       "      <td>2270</td>\n",
       "    </tr>\n",
       "    <tr>\n",
       "      <th>186</th>\n",
       "      <td>Jual Rumah Menteng</td>\n",
       "      <td>Jakarta Pusat</td>\n",
       "      <td>Menteng</td>\n",
       "      <td>1000.0</td>\n",
       "      <td>1125.0</td>\n",
       "      <td>1.150000e+11</td>\n",
       "      <td>2125</td>\n",
       "    </tr>\n",
       "    <tr>\n",
       "      <th>201</th>\n",
       "      <td>Jual Atau Sewa Rumah Mewah di Menteng Jakarta ...</td>\n",
       "      <td>Jakarta Pusat</td>\n",
       "      <td>Menteng</td>\n",
       "      <td>800.0</td>\n",
       "      <td>810.0</td>\n",
       "      <td>1.000000e+11</td>\n",
       "      <td>1610</td>\n",
       "    </tr>\n",
       "    <tr>\n",
       "      <th>203</th>\n",
       "      <td>Rumah Sangat Luas Surabaya Menteng Jakarta Pusat</td>\n",
       "      <td>Jakarta Pusat</td>\n",
       "      <td>Menteng</td>\n",
       "      <td>1500.0</td>\n",
       "      <td>1503.0</td>\n",
       "      <td>1.650000e+11</td>\n",
       "      <td>3003</td>\n",
       "    </tr>\n",
       "    <tr>\n",
       "      <th>230</th>\n",
       "      <td>Rumah Luas Elegant Dengan Pool Di Area Premium...</td>\n",
       "      <td>Jakarta Pusat</td>\n",
       "      <td>Menteng</td>\n",
       "      <td>600.0</td>\n",
       "      <td>948.0</td>\n",
       "      <td>1.100000e+11</td>\n",
       "      <td>1548</td>\n",
       "    </tr>\n",
       "    <tr>\n",
       "      <th>340</th>\n",
       "      <td>Rumah Tua Hitung Tanahperuntukan Rumah Tinggal...</td>\n",
       "      <td>Jakarta Pusat</td>\n",
       "      <td>Menteng</td>\n",
       "      <td>400.0</td>\n",
       "      <td>1878.0</td>\n",
       "      <td>3.290000e+11</td>\n",
       "      <td>2278</td>\n",
       "    </tr>\n",
       "    <tr>\n",
       "      <th>347</th>\n",
       "      <td>Rumah Di Lokasi Super Premium Di Plaju  Thamrin</td>\n",
       "      <td>Jakarta Pusat</td>\n",
       "      <td>Thamrin</td>\n",
       "      <td>2000.0</td>\n",
       "      <td>700.0</td>\n",
       "      <td>1.050000e+11</td>\n",
       "      <td>2700</td>\n",
       "    </tr>\n",
       "    <tr>\n",
       "      <th>383</th>\n",
       "      <td>DIJUAL RUMAH DI JALAN JOHARMENTENGJAKARTA PUSAT</td>\n",
       "      <td>Jakarta Pusat</td>\n",
       "      <td>Menteng</td>\n",
       "      <td>800.0</td>\n",
       "      <td>1050.0</td>\n",
       "      <td>1.000000e+11</td>\n",
       "      <td>1850</td>\n",
       "    </tr>\n",
       "    <tr>\n",
       "      <th>386</th>\n",
       "      <td>Rumah Mewah KosKosan Di Menteng Jakarta Pusat</td>\n",
       "      <td>Jakarta Pusat</td>\n",
       "      <td>Menteng</td>\n",
       "      <td>3000.0</td>\n",
       "      <td>1663.0</td>\n",
       "      <td>1.750000e+11</td>\n",
       "      <td>4663</td>\n",
       "    </tr>\n",
       "    <tr>\n",
       "      <th>395</th>\n",
       "      <td>DIJUAL RUMAH DI CIKINI RAYAMENTENGJAKARTA PUSAT</td>\n",
       "      <td>Jakarta Pusat</td>\n",
       "      <td>Menteng</td>\n",
       "      <td>1796.0</td>\n",
       "      <td>2951.0</td>\n",
       "      <td>1.700000e+11</td>\n",
       "      <td>4747</td>\n",
       "    </tr>\n",
       "    <tr>\n",
       "      <th>418</th>\n",
       "      <td>DI RUMAH DI MENTENGJAKARTA PUSAT</td>\n",
       "      <td>Jakarta Pusat</td>\n",
       "      <td>Menteng</td>\n",
       "      <td>1500.0</td>\n",
       "      <td>1500.0</td>\n",
       "      <td>2.500000e+11</td>\n",
       "      <td>3000</td>\n",
       "    </tr>\n",
       "    <tr>\n",
       "      <th>430</th>\n",
       "      <td>DI RUMAH LOKASI SANGAT STRATEGIS DI MENTENGJAK...</td>\n",
       "      <td>Jakarta Pusat</td>\n",
       "      <td>Menteng</td>\n",
       "      <td>1500.0</td>\n",
       "      <td>1975.0</td>\n",
       "      <td>2.750000e+11</td>\n",
       "      <td>3475</td>\n",
       "    </tr>\n",
       "    <tr>\n",
       "      <th>610</th>\n",
       "      <td>MURCE CUY HARGA DIBAWAH PASARAN LOKASI EXLUSIV...</td>\n",
       "      <td>Jakarta Selatan</td>\n",
       "      <td>Pondok Indah</td>\n",
       "      <td>2600.0</td>\n",
       "      <td>4689.0</td>\n",
       "      <td>1.800000e+11</td>\n",
       "      <td>7289</td>\n",
       "    </tr>\n",
       "    <tr>\n",
       "      <th>771</th>\n",
       "      <td>DIJUAL RUMAH AREA BRAWIJAYA  LYAS 1365 M2  RUM...</td>\n",
       "      <td>Jakarta Selatan</td>\n",
       "      <td>Kebayoran Baru</td>\n",
       "      <td>800.0</td>\n",
       "      <td>1365.0</td>\n",
       "      <td>1.228500e+11</td>\n",
       "      <td>2165</td>\n",
       "    </tr>\n",
       "    <tr>\n",
       "      <th>885</th>\n",
       "      <td>Strategis Rumah 4 Bedroom Luas dengan Pool di ...</td>\n",
       "      <td>Jakarta Selatan</td>\n",
       "      <td>Kebayoran Baru</td>\n",
       "      <td>700.0</td>\n",
       "      <td>945.0</td>\n",
       "      <td>1.000000e+11</td>\n",
       "      <td>1645</td>\n",
       "    </tr>\n",
       "    <tr>\n",
       "      <th>887</th>\n",
       "      <td>Dijual Rumah Terawat Lokasi Elit  Menteng</td>\n",
       "      <td>Jakarta Selatan</td>\n",
       "      <td>NaN</td>\n",
       "      <td>1000.0</td>\n",
       "      <td>2600.0</td>\n",
       "      <td>3.500000e+11</td>\n",
       "      <td>3600</td>\n",
       "    </tr>\n",
       "    <tr>\n",
       "      <th>895</th>\n",
       "      <td>Dijual Rumah Terawat Lokasi Elit Strategis Keb...</td>\n",
       "      <td>Jakarta Selatan</td>\n",
       "      <td>Kebayoran Baru</td>\n",
       "      <td>1736.0</td>\n",
       "      <td>1770.0</td>\n",
       "      <td>1.504500e+11</td>\n",
       "      <td>3506</td>\n",
       "    </tr>\n",
       "    <tr>\n",
       "      <th>2479</th>\n",
       "      <td>Rumah terawat Dago mainroad</td>\n",
       "      <td>Bandung</td>\n",
       "      <td>Coblong</td>\n",
       "      <td>112.0</td>\n",
       "      <td>2822.0</td>\n",
       "      <td>1.269900e+11</td>\n",
       "      <td>2934</td>\n",
       "    </tr>\n",
       "  </tbody>\n",
       "</table>\n",
       "</div>"
      ],
      "text/plain": [
       "                                                  Judul             Kota  \\\n",
       "53           Rumah Prestisius Luas with Pool di Menteng    Jakarta Pusat   \n",
       "63                         RUMAH LUX PRESTISIUS MENTENG    Jakarta Pusat   \n",
       "72                            Dijual rumah Area Menteng    Jakarta Pusat   \n",
       "100   6 Bedrooms Rumah Menteng Jakarta Pusat DKI Jak...    Jakarta Pusat   \n",
       "135                  Rumah Mewah Menteng  Jakarta Pusat    Jakarta Pusat   \n",
       "145                                    Rumah di Menteng    Jakarta Pusat   \n",
       "186                                  Jual Rumah Menteng    Jakarta Pusat   \n",
       "201   Jual Atau Sewa Rumah Mewah di Menteng Jakarta ...    Jakarta Pusat   \n",
       "203    Rumah Sangat Luas Surabaya Menteng Jakarta Pusat    Jakarta Pusat   \n",
       "230   Rumah Luas Elegant Dengan Pool Di Area Premium...    Jakarta Pusat   \n",
       "340   Rumah Tua Hitung Tanahperuntukan Rumah Tinggal...    Jakarta Pusat   \n",
       "347     Rumah Di Lokasi Super Premium Di Plaju  Thamrin    Jakarta Pusat   \n",
       "383     DIJUAL RUMAH DI JALAN JOHARMENTENGJAKARTA PUSAT    Jakarta Pusat   \n",
       "386       Rumah Mewah KosKosan Di Menteng Jakarta Pusat    Jakarta Pusat   \n",
       "395     DIJUAL RUMAH DI CIKINI RAYAMENTENGJAKARTA PUSAT    Jakarta Pusat   \n",
       "418                    DI RUMAH DI MENTENGJAKARTA PUSAT    Jakarta Pusat   \n",
       "430   DI RUMAH LOKASI SANGAT STRATEGIS DI MENTENGJAK...    Jakarta Pusat   \n",
       "610   MURCE CUY HARGA DIBAWAH PASARAN LOKASI EXLUSIV...  Jakarta Selatan   \n",
       "771   DIJUAL RUMAH AREA BRAWIJAYA  LYAS 1365 M2  RUM...  Jakarta Selatan   \n",
       "885   Strategis Rumah 4 Bedroom Luas dengan Pool di ...  Jakarta Selatan   \n",
       "887           Dijual Rumah Terawat Lokasi Elit  Menteng  Jakarta Selatan   \n",
       "895   Dijual Rumah Terawat Lokasi Elit Strategis Keb...  Jakarta Selatan   \n",
       "2479                        Rumah terawat Dago mainroad          Bandung   \n",
       "\n",
       "             Wilayah  Luas_Bangunan  Luas_Lahan         Harga  Total_Luas  \n",
       "53           Menteng         1200.0      1176.0  1.650000e+11        2376  \n",
       "63           Menteng         1200.0      1176.0  1.750000e+11        2376  \n",
       "72           Menteng          950.0      1100.0  1.200000e+11        2050  \n",
       "100          Menteng          950.0      1100.0  1.200000e+11        2050  \n",
       "135          Menteng          920.0      1100.0  1.300000e+11        2020  \n",
       "145          Menteng         1000.0      1270.0  1.905000e+11        2270  \n",
       "186          Menteng         1000.0      1125.0  1.150000e+11        2125  \n",
       "201          Menteng          800.0       810.0  1.000000e+11        1610  \n",
       "203          Menteng         1500.0      1503.0  1.650000e+11        3003  \n",
       "230          Menteng          600.0       948.0  1.100000e+11        1548  \n",
       "340          Menteng          400.0      1878.0  3.290000e+11        2278  \n",
       "347          Thamrin         2000.0       700.0  1.050000e+11        2700  \n",
       "383          Menteng          800.0      1050.0  1.000000e+11        1850  \n",
       "386          Menteng         3000.0      1663.0  1.750000e+11        4663  \n",
       "395          Menteng         1796.0      2951.0  1.700000e+11        4747  \n",
       "418          Menteng         1500.0      1500.0  2.500000e+11        3000  \n",
       "430          Menteng         1500.0      1975.0  2.750000e+11        3475  \n",
       "610     Pondok Indah         2600.0      4689.0  1.800000e+11        7289  \n",
       "771   Kebayoran Baru          800.0      1365.0  1.228500e+11        2165  \n",
       "885   Kebayoran Baru          700.0       945.0  1.000000e+11        1645  \n",
       "887              NaN         1000.0      2600.0  3.500000e+11        3600  \n",
       "895   Kebayoran Baru         1736.0      1770.0  1.504500e+11        3506  \n",
       "2479         Coblong          112.0      2822.0  1.269900e+11        2934  "
      ]
     },
     "execution_count": 29,
     "metadata": {},
     "output_type": "execute_result"
    }
   ],
   "source": [
    "data_rumah.query('Harga >= 1e11')"
   ]
  },
  {
   "cell_type": "code",
   "execution_count": 40,
   "metadata": {},
   "outputs": [
    {
     "data": {
      "application/vnd.plotly.v1+json": {
       "config": {
        "plotlyServerURL": "https://plot.ly"
       },
       "data": [
        {
         "alignmentgroup": "True",
         "hovertemplate": "Harga=%{x}<br>Kota=%{y}<extra></extra>",
         "legendgroup": "",
         "marker": {
          "color": "#636efa",
          "pattern": {
           "shape": ""
          }
         },
         "name": "",
         "offsetgroup": "",
         "orientation": "h",
         "showlegend": false,
         "textposition": "auto",
         "type": "bar",
         "x": [
          2550000000,
          4700000000,
          5000000000,
          1625000000,
          4425000000
         ],
         "xaxis": "x",
         "y": [
          "Jakarta Barat",
          "Jakarta Pusat",
          "Jakarta Selatan",
          "Jakarta Timur",
          "Jakarta Utara"
         ],
         "yaxis": "y"
        }
       ],
       "layout": {
        "barmode": "relative",
        "legend": {
         "tracegroupgap": 0
        },
        "template": {
         "data": {
          "bar": [
           {
            "error_x": {
             "color": "#2a3f5f"
            },
            "error_y": {
             "color": "#2a3f5f"
            },
            "marker": {
             "line": {
              "color": "#E5ECF6",
              "width": 0.5
             },
             "pattern": {
              "fillmode": "overlay",
              "size": 10,
              "solidity": 0.2
             }
            },
            "type": "bar"
           }
          ],
          "barpolar": [
           {
            "marker": {
             "line": {
              "color": "#E5ECF6",
              "width": 0.5
             },
             "pattern": {
              "fillmode": "overlay",
              "size": 10,
              "solidity": 0.2
             }
            },
            "type": "barpolar"
           }
          ],
          "carpet": [
           {
            "aaxis": {
             "endlinecolor": "#2a3f5f",
             "gridcolor": "white",
             "linecolor": "white",
             "minorgridcolor": "white",
             "startlinecolor": "#2a3f5f"
            },
            "baxis": {
             "endlinecolor": "#2a3f5f",
             "gridcolor": "white",
             "linecolor": "white",
             "minorgridcolor": "white",
             "startlinecolor": "#2a3f5f"
            },
            "type": "carpet"
           }
          ],
          "choropleth": [
           {
            "colorbar": {
             "outlinewidth": 0,
             "ticks": ""
            },
            "type": "choropleth"
           }
          ],
          "contour": [
           {
            "colorbar": {
             "outlinewidth": 0,
             "ticks": ""
            },
            "colorscale": [
             [
              0,
              "#0d0887"
             ],
             [
              0.1111111111111111,
              "#46039f"
             ],
             [
              0.2222222222222222,
              "#7201a8"
             ],
             [
              0.3333333333333333,
              "#9c179e"
             ],
             [
              0.4444444444444444,
              "#bd3786"
             ],
             [
              0.5555555555555556,
              "#d8576b"
             ],
             [
              0.6666666666666666,
              "#ed7953"
             ],
             [
              0.7777777777777778,
              "#fb9f3a"
             ],
             [
              0.8888888888888888,
              "#fdca26"
             ],
             [
              1,
              "#f0f921"
             ]
            ],
            "type": "contour"
           }
          ],
          "contourcarpet": [
           {
            "colorbar": {
             "outlinewidth": 0,
             "ticks": ""
            },
            "type": "contourcarpet"
           }
          ],
          "heatmap": [
           {
            "colorbar": {
             "outlinewidth": 0,
             "ticks": ""
            },
            "colorscale": [
             [
              0,
              "#0d0887"
             ],
             [
              0.1111111111111111,
              "#46039f"
             ],
             [
              0.2222222222222222,
              "#7201a8"
             ],
             [
              0.3333333333333333,
              "#9c179e"
             ],
             [
              0.4444444444444444,
              "#bd3786"
             ],
             [
              0.5555555555555556,
              "#d8576b"
             ],
             [
              0.6666666666666666,
              "#ed7953"
             ],
             [
              0.7777777777777778,
              "#fb9f3a"
             ],
             [
              0.8888888888888888,
              "#fdca26"
             ],
             [
              1,
              "#f0f921"
             ]
            ],
            "type": "heatmap"
           }
          ],
          "heatmapgl": [
           {
            "colorbar": {
             "outlinewidth": 0,
             "ticks": ""
            },
            "colorscale": [
             [
              0,
              "#0d0887"
             ],
             [
              0.1111111111111111,
              "#46039f"
             ],
             [
              0.2222222222222222,
              "#7201a8"
             ],
             [
              0.3333333333333333,
              "#9c179e"
             ],
             [
              0.4444444444444444,
              "#bd3786"
             ],
             [
              0.5555555555555556,
              "#d8576b"
             ],
             [
              0.6666666666666666,
              "#ed7953"
             ],
             [
              0.7777777777777778,
              "#fb9f3a"
             ],
             [
              0.8888888888888888,
              "#fdca26"
             ],
             [
              1,
              "#f0f921"
             ]
            ],
            "type": "heatmapgl"
           }
          ],
          "histogram": [
           {
            "marker": {
             "pattern": {
              "fillmode": "overlay",
              "size": 10,
              "solidity": 0.2
             }
            },
            "type": "histogram"
           }
          ],
          "histogram2d": [
           {
            "colorbar": {
             "outlinewidth": 0,
             "ticks": ""
            },
            "colorscale": [
             [
              0,
              "#0d0887"
             ],
             [
              0.1111111111111111,
              "#46039f"
             ],
             [
              0.2222222222222222,
              "#7201a8"
             ],
             [
              0.3333333333333333,
              "#9c179e"
             ],
             [
              0.4444444444444444,
              "#bd3786"
             ],
             [
              0.5555555555555556,
              "#d8576b"
             ],
             [
              0.6666666666666666,
              "#ed7953"
             ],
             [
              0.7777777777777778,
              "#fb9f3a"
             ],
             [
              0.8888888888888888,
              "#fdca26"
             ],
             [
              1,
              "#f0f921"
             ]
            ],
            "type": "histogram2d"
           }
          ],
          "histogram2dcontour": [
           {
            "colorbar": {
             "outlinewidth": 0,
             "ticks": ""
            },
            "colorscale": [
             [
              0,
              "#0d0887"
             ],
             [
              0.1111111111111111,
              "#46039f"
             ],
             [
              0.2222222222222222,
              "#7201a8"
             ],
             [
              0.3333333333333333,
              "#9c179e"
             ],
             [
              0.4444444444444444,
              "#bd3786"
             ],
             [
              0.5555555555555556,
              "#d8576b"
             ],
             [
              0.6666666666666666,
              "#ed7953"
             ],
             [
              0.7777777777777778,
              "#fb9f3a"
             ],
             [
              0.8888888888888888,
              "#fdca26"
             ],
             [
              1,
              "#f0f921"
             ]
            ],
            "type": "histogram2dcontour"
           }
          ],
          "mesh3d": [
           {
            "colorbar": {
             "outlinewidth": 0,
             "ticks": ""
            },
            "type": "mesh3d"
           }
          ],
          "parcoords": [
           {
            "line": {
             "colorbar": {
              "outlinewidth": 0,
              "ticks": ""
             }
            },
            "type": "parcoords"
           }
          ],
          "pie": [
           {
            "automargin": true,
            "type": "pie"
           }
          ],
          "scatter": [
           {
            "fillpattern": {
             "fillmode": "overlay",
             "size": 10,
             "solidity": 0.2
            },
            "type": "scatter"
           }
          ],
          "scatter3d": [
           {
            "line": {
             "colorbar": {
              "outlinewidth": 0,
              "ticks": ""
             }
            },
            "marker": {
             "colorbar": {
              "outlinewidth": 0,
              "ticks": ""
             }
            },
            "type": "scatter3d"
           }
          ],
          "scattercarpet": [
           {
            "marker": {
             "colorbar": {
              "outlinewidth": 0,
              "ticks": ""
             }
            },
            "type": "scattercarpet"
           }
          ],
          "scattergeo": [
           {
            "marker": {
             "colorbar": {
              "outlinewidth": 0,
              "ticks": ""
             }
            },
            "type": "scattergeo"
           }
          ],
          "scattergl": [
           {
            "marker": {
             "colorbar": {
              "outlinewidth": 0,
              "ticks": ""
             }
            },
            "type": "scattergl"
           }
          ],
          "scattermapbox": [
           {
            "marker": {
             "colorbar": {
              "outlinewidth": 0,
              "ticks": ""
             }
            },
            "type": "scattermapbox"
           }
          ],
          "scatterpolar": [
           {
            "marker": {
             "colorbar": {
              "outlinewidth": 0,
              "ticks": ""
             }
            },
            "type": "scatterpolar"
           }
          ],
          "scatterpolargl": [
           {
            "marker": {
             "colorbar": {
              "outlinewidth": 0,
              "ticks": ""
             }
            },
            "type": "scatterpolargl"
           }
          ],
          "scatterternary": [
           {
            "marker": {
             "colorbar": {
              "outlinewidth": 0,
              "ticks": ""
             }
            },
            "type": "scatterternary"
           }
          ],
          "surface": [
           {
            "colorbar": {
             "outlinewidth": 0,
             "ticks": ""
            },
            "colorscale": [
             [
              0,
              "#0d0887"
             ],
             [
              0.1111111111111111,
              "#46039f"
             ],
             [
              0.2222222222222222,
              "#7201a8"
             ],
             [
              0.3333333333333333,
              "#9c179e"
             ],
             [
              0.4444444444444444,
              "#bd3786"
             ],
             [
              0.5555555555555556,
              "#d8576b"
             ],
             [
              0.6666666666666666,
              "#ed7953"
             ],
             [
              0.7777777777777778,
              "#fb9f3a"
             ],
             [
              0.8888888888888888,
              "#fdca26"
             ],
             [
              1,
              "#f0f921"
             ]
            ],
            "type": "surface"
           }
          ],
          "table": [
           {
            "cells": {
             "fill": {
              "color": "#EBF0F8"
             },
             "line": {
              "color": "white"
             }
            },
            "header": {
             "fill": {
              "color": "#C8D4E3"
             },
             "line": {
              "color": "white"
             }
            },
            "type": "table"
           }
          ]
         },
         "layout": {
          "annotationdefaults": {
           "arrowcolor": "#2a3f5f",
           "arrowhead": 0,
           "arrowwidth": 1
          },
          "autotypenumbers": "strict",
          "coloraxis": {
           "colorbar": {
            "outlinewidth": 0,
            "ticks": ""
           }
          },
          "colorscale": {
           "diverging": [
            [
             0,
             "#8e0152"
            ],
            [
             0.1,
             "#c51b7d"
            ],
            [
             0.2,
             "#de77ae"
            ],
            [
             0.3,
             "#f1b6da"
            ],
            [
             0.4,
             "#fde0ef"
            ],
            [
             0.5,
             "#f7f7f7"
            ],
            [
             0.6,
             "#e6f5d0"
            ],
            [
             0.7,
             "#b8e186"
            ],
            [
             0.8,
             "#7fbc41"
            ],
            [
             0.9,
             "#4d9221"
            ],
            [
             1,
             "#276419"
            ]
           ],
           "sequential": [
            [
             0,
             "#0d0887"
            ],
            [
             0.1111111111111111,
             "#46039f"
            ],
            [
             0.2222222222222222,
             "#7201a8"
            ],
            [
             0.3333333333333333,
             "#9c179e"
            ],
            [
             0.4444444444444444,
             "#bd3786"
            ],
            [
             0.5555555555555556,
             "#d8576b"
            ],
            [
             0.6666666666666666,
             "#ed7953"
            ],
            [
             0.7777777777777778,
             "#fb9f3a"
            ],
            [
             0.8888888888888888,
             "#fdca26"
            ],
            [
             1,
             "#f0f921"
            ]
           ],
           "sequentialminus": [
            [
             0,
             "#0d0887"
            ],
            [
             0.1111111111111111,
             "#46039f"
            ],
            [
             0.2222222222222222,
             "#7201a8"
            ],
            [
             0.3333333333333333,
             "#9c179e"
            ],
            [
             0.4444444444444444,
             "#bd3786"
            ],
            [
             0.5555555555555556,
             "#d8576b"
            ],
            [
             0.6666666666666666,
             "#ed7953"
            ],
            [
             0.7777777777777778,
             "#fb9f3a"
            ],
            [
             0.8888888888888888,
             "#fdca26"
            ],
            [
             1,
             "#f0f921"
            ]
           ]
          },
          "colorway": [
           "#636efa",
           "#EF553B",
           "#00cc96",
           "#ab63fa",
           "#FFA15A",
           "#19d3f3",
           "#FF6692",
           "#B6E880",
           "#FF97FF",
           "#FECB52"
          ],
          "font": {
           "color": "#2a3f5f"
          },
          "geo": {
           "bgcolor": "white",
           "lakecolor": "white",
           "landcolor": "#E5ECF6",
           "showlakes": true,
           "showland": true,
           "subunitcolor": "white"
          },
          "hoverlabel": {
           "align": "left"
          },
          "hovermode": "closest",
          "mapbox": {
           "style": "light"
          },
          "paper_bgcolor": "white",
          "plot_bgcolor": "#E5ECF6",
          "polar": {
           "angularaxis": {
            "gridcolor": "white",
            "linecolor": "white",
            "ticks": ""
           },
           "bgcolor": "#E5ECF6",
           "radialaxis": {
            "gridcolor": "white",
            "linecolor": "white",
            "ticks": ""
           }
          },
          "scene": {
           "xaxis": {
            "backgroundcolor": "#E5ECF6",
            "gridcolor": "white",
            "gridwidth": 2,
            "linecolor": "white",
            "showbackground": true,
            "ticks": "",
            "zerolinecolor": "white"
           },
           "yaxis": {
            "backgroundcolor": "#E5ECF6",
            "gridcolor": "white",
            "gridwidth": 2,
            "linecolor": "white",
            "showbackground": true,
            "ticks": "",
            "zerolinecolor": "white"
           },
           "zaxis": {
            "backgroundcolor": "#E5ECF6",
            "gridcolor": "white",
            "gridwidth": 2,
            "linecolor": "white",
            "showbackground": true,
            "ticks": "",
            "zerolinecolor": "white"
           }
          },
          "shapedefaults": {
           "line": {
            "color": "#2a3f5f"
           }
          },
          "ternary": {
           "aaxis": {
            "gridcolor": "white",
            "linecolor": "white",
            "ticks": ""
           },
           "baxis": {
            "gridcolor": "white",
            "linecolor": "white",
            "ticks": ""
           },
           "bgcolor": "#E5ECF6",
           "caxis": {
            "gridcolor": "white",
            "linecolor": "white",
            "ticks": ""
           }
          },
          "title": {
           "x": 0.05
          },
          "xaxis": {
           "automargin": true,
           "gridcolor": "white",
           "linecolor": "white",
           "ticks": "",
           "title": {
            "standoff": 15
           },
           "zerolinecolor": "white",
           "zerolinewidth": 2
          },
          "yaxis": {
           "automargin": true,
           "gridcolor": "white",
           "linecolor": "white",
           "ticks": "",
           "title": {
            "standoff": 15
           },
           "zerolinecolor": "white",
           "zerolinewidth": 2
          }
         }
        },
        "title": {
         "font": {
          "size": 30
         },
         "text": "Median Rumah di Jakarta"
        },
        "xaxis": {
         "anchor": "y",
         "domain": [
          0,
          1
         ],
         "title": {
          "text": "Harga"
         }
        },
        "yaxis": {
         "anchor": "x",
         "categoryorder": "total ascending",
         "domain": [
          0,
          1
         ],
         "title": {
          "text": "Kota"
         }
        }
       }
      }
     },
     "metadata": {},
     "output_type": "display_data"
    }
   ],
   "source": [
    "rumah_jakarta = px.bar(data_rumah.query('Kota.str.startswith(\"Jakarta\")')\\\n",
    "                                .groupby('Kota')[['Harga']].median().reset_index(),\n",
    "                            x='Harga', y='Kota', title='Median Rumah di Jakarta', orientation='h')\n",
    "rumah_jakarta.update_yaxes(categoryorder='total ascending')\n",
    "rumah_jakarta.update_layout(title_font_size=30)"
   ]
  },
  {
   "cell_type": "code",
   "execution_count": 75,
   "metadata": {},
   "outputs": [
    {
     "data": {
      "text/plain": [
       "<AxesSubplot:xlabel='Harga', ylabel='Luas_Bangunan'>"
      ]
     },
     "execution_count": 75,
     "metadata": {},
     "output_type": "execute_result"
    },
    {
     "data": {
      "image/png": "[encoded data removed]",
      "text/plain": [
       "<Figure size 432x288 with 1 Axes>"
      ]
     },
     "metadata": {
      "needs_background": "light"
     },
     "output_type": "display_data"
    }
   ],
   "source": [
    "sns.scatterplot(x='Harga', y='Luas_Bangunan', data=data_rumah)"
   ]
  },
  {
   "cell_type": "code",
   "execution_count": 76,
   "metadata": {},
   "outputs": [
    {
     "data": {
      "text/html": [
       "<div>\n",
       "<style scoped>\n",
       "    .dataframe tbody tr th:only-of-type {\n",
       "        vertical-align: middle;\n",
       "    }\n",
       "\n",
       "    .dataframe tbody tr th {\n",
       "        vertical-align: top;\n",
       "    }\n",
       "\n",
       "    .dataframe thead th {\n",
       "        text-align: right;\n",
       "    }\n",
       "</style>\n",
       "<table border=\"1\" class=\"dataframe\">\n",
       "  <thead>\n",
       "    <tr style=\"text-align: right;\">\n",
       "      <th></th>\n",
       "      <th>Luas_Bangunan</th>\n",
       "      <th>Luas_Lahan</th>\n",
       "      <th>Harga</th>\n",
       "    </tr>\n",
       "  </thead>\n",
       "  <tbody>\n",
       "    <tr>\n",
       "      <th>Luas_Bangunan</th>\n",
       "      <td>1.000000</td>\n",
       "      <td>0.531498</td>\n",
       "      <td>0.539492</td>\n",
       "    </tr>\n",
       "    <tr>\n",
       "      <th>Luas_Lahan</th>\n",
       "      <td>0.531498</td>\n",
       "      <td>1.000000</td>\n",
       "      <td>0.483072</td>\n",
       "    </tr>\n",
       "    <tr>\n",
       "      <th>Harga</th>\n",
       "      <td>0.539492</td>\n",
       "      <td>0.483072</td>\n",
       "      <td>1.000000</td>\n",
       "    </tr>\n",
       "  </tbody>\n",
       "</table>\n",
       "</div>"
      ],
      "text/plain": [
       "               Luas_Bangunan  Luas_Lahan     Harga\n",
       "Luas_Bangunan       1.000000    0.531498  0.539492\n",
       "Luas_Lahan          0.531498    1.000000  0.483072\n",
       "Harga               0.539492    0.483072  1.000000"
      ]
     },
     "execution_count": 76,
     "metadata": {},
     "output_type": "execute_result"
    }
   ],
   "source": [
    "data_rumah.corr()"
   ]
  },
  {
   "cell_type": "code",
   "execution_count": 69,
   "metadata": {},
   "outputs": [
    {
     "data": {
      "text/plain": [
       "<AxesSubplot:xlabel='Harga', ylabel='Luas_Lahan'>"
      ]
     },
     "execution_count": 69,
     "metadata": {},
     "output_type": "execute_result"
    },
    {
     "data": {
      "image/png": "[encoded data removed]",
      "text/plain": [
       "<Figure size 432x288 with 1 Axes>"
      ]
     },
     "metadata": {
      "needs_background": "light"
     },
     "output_type": "display_data"
    }
   ],
   "source": [
    "sns.scatterplot(x='Harga', y='Luas_Lahan', data=data_rumah)"
   ]
  },
  {
   "cell_type": "code",
   "execution_count": 18,
   "metadata": {},
   "outputs": [
    {
     "data": {
      "text/plain": [
       "<AxesSubplot:xlabel='Harga', ylabel='Kota'>"
      ]
     },
     "execution_count": 18,
     "metadata": {},
     "output_type": "execute_result"
    },
    {
     "data": {
      "image/png": "[encoded data removed]",
      "text/plain": [
       "<Figure size 432x288 with 1 Axes>"
      ]
     },
     "metadata": {
      "needs_background": "light"
     },
     "output_type": "display_data"
    }
   ],
   "source": [
    "sns.barplot(y='Kota', x='Harga', data=data_rumah, estimator=median, ci=False)"
   ]
  },
  {
   "cell_type": "code",
   "execution_count": 84,
   "metadata": {},
   "outputs": [
    {
     "data": {
      "text/plain": [
       "Luas_Bangunan    1.075000e+02\n",
       "Luas_Lahan       9.600000e+01\n",
       "Harga            1.650000e+09\n",
       "dtype: float64"
      ]
     },
     "execution_count": 84,
     "metadata": {},
     "output_type": "execute_result"
    }
   ],
   "source": [
    "data_rumah.query('Kota == \"Jakarta Timur\"').median(numeric_only=True)"
   ]
  },
  {
   "cell_type": "code",
   "execution_count": 83,
   "metadata": {},
   "outputs": [
    {
     "data": {
      "text/plain": [
       "(0.0, 20000000000.0)"
      ]
     },
     "execution_count": 83,
     "metadata": {},
     "output_type": "execute_result"
    },
    {
     "data": {
      "image/png": "[encoded data removed]",
      "text/plain": [
       "<Figure size 432x288 with 1 Axes>"
      ]
     },
     "metadata": {
      "needs_background": "light"
     },
     "output_type": "display_data"
    }
   ],
   "source": [
    "sns.violinplot(x='Kota', y='Harga', data=data_rumah)\n",
    "plt.ylim((0, 2e10))"
   ]
  }
 ],
 "metadata": {
  "kernelspec": {
   "display_name": "Python 3.10.4 ('rumah')",
   "language": "python",
   "name": "python3"
  },
  "language_info": {
   "codemirror_mode": {
    "name": "ipython",
    "version": 3
   },
   "file_extension": ".py",
   "mimetype": "text/x-python",
   "name": "python",
   "nbconvert_exporter": "python",
   "pygments_lexer": "ipython3",
   "version": "3.10.4"
  },
  "orig_nbformat": 4,
  "vscode": {
   "interpreter": {
    "hash": "794a5666f1a43d5c0c0d18ded34a7105978c2dfd15fbe3fa6653596dc4ca2e26"
   }
  }
 },
 "nbformat": 4,
 "nbformat_minor": 2
}
